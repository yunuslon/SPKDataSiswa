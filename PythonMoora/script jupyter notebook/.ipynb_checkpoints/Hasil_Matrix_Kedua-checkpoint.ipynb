{
 "cells": [
  {
   "cell_type": "code",
   "execution_count": 5,
   "metadata": {},
   "outputs": [],
   "source": [
    "import pandas as pd\n",
    "import numpy as np\n",
    "import math\n",
    "from pandas import DataFrame, read_csv"
   ]
  },
  {
   "cell_type": "code",
   "execution_count": 15,
   "metadata": {},
   "outputs": [],
   "source": [
    "Hasil_Matrix_A= pd.read_csv('Matrix_Awal.csv')\n",
    "# cols=['Nama','Matematika','Karakter','Pengalaman Lomba','Hasil Tes MTK','Kelas']\n",
    "# hasilMatrix=Hasil_Matrix_A[cols]\n",
    "def Matrix2():\n",
    "    MTK=Hasil_Matrix_A['Matematika']*0.3\n",
    "    Karakter=Hasil_Matrix_A['Karakter']*0.15\n",
    "    PengalamanL=Hasil_Matrix_A['Pengalaman Lomba']*0.15\n",
    "    HTMTK=Hasil_Matrix_A['Hasil Tes MTK']*0.25\n",
    "    Kelas=Hasil_Matrix_A['Kelas']*0.15\n",
    "\n",
    "    Nama=Hasil_Matrix_A['Nama']\n",
    "    Hasil_MTK=pd.DataFrame(MTK)\n",
    "    Hasil_Karakter=pd.DataFrame(Karakter)\n",
    "    Hasil_PengalamanL=pd.DataFrame(PengalamanL)\n",
    "    Hasil_Tes_MTK=pd.DataFrame(HTMTK)\n",
    "    Hasil_Kelas=pd.DataFrame(Kelas)\n",
    "    Matrix_kedua=pd.concat([Nama,Hasil_MTK,Hasil_Karakter,Hasil_PengalamanL,Hasil_Tes_MTK,Hasil_Kelas],axis=1)\n",
    "    return Matrix_kedua"
   ]
  },
  {
   "cell_type": "code",
   "execution_count": 16,
   "metadata": {},
   "outputs": [
    {
     "data": {
      "text/html": [
       "<div>\n",
       "<style scoped>\n",
       "    .dataframe tbody tr th:only-of-type {\n",
       "        vertical-align: middle;\n",
       "    }\n",
       "\n",
       "    .dataframe tbody tr th {\n",
       "        vertical-align: top;\n",
       "    }\n",
       "\n",
       "    .dataframe thead th {\n",
       "        text-align: right;\n",
       "    }\n",
       "</style>\n",
       "<table border=\"1\" class=\"dataframe\">\n",
       "  <thead>\n",
       "    <tr style=\"text-align: right;\">\n",
       "      <th></th>\n",
       "      <th>Nama</th>\n",
       "      <th>Matematika</th>\n",
       "      <th>Karakter</th>\n",
       "      <th>Pengalaman Lomba</th>\n",
       "      <th>Hasil Tes MTK</th>\n",
       "      <th>Kelas</th>\n",
       "    </tr>\n",
       "  </thead>\n",
       "  <tbody>\n",
       "    <tr>\n",
       "      <th>0</th>\n",
       "      <td>Satria Wira</td>\n",
       "      <td>0.148799</td>\n",
       "      <td>0.070225</td>\n",
       "      <td>0.075</td>\n",
       "      <td>0.105081</td>\n",
       "      <td>0.049099</td>\n",
       "    </tr>\n",
       "    <tr>\n",
       "      <th>1</th>\n",
       "      <td>Gora Wahyu</td>\n",
       "      <td>0.132266</td>\n",
       "      <td>0.070225</td>\n",
       "      <td>0.060</td>\n",
       "      <td>0.111649</td>\n",
       "      <td>0.081832</td>\n",
       "    </tr>\n",
       "    <tr>\n",
       "      <th>2</th>\n",
       "      <td>Azura fransisca</td>\n",
       "      <td>0.132266</td>\n",
       "      <td>0.052669</td>\n",
       "      <td>0.045</td>\n",
       "      <td>0.118217</td>\n",
       "      <td>0.065465</td>\n",
       "    </tr>\n",
       "    <tr>\n",
       "      <th>3</th>\n",
       "      <td>Sagita Putri</td>\n",
       "      <td>0.132266</td>\n",
       "      <td>0.070225</td>\n",
       "      <td>0.075</td>\n",
       "      <td>0.105081</td>\n",
       "      <td>0.049099</td>\n",
       "    </tr>\n",
       "    <tr>\n",
       "      <th>4</th>\n",
       "      <td>Afriani Ibrahim Putri</td>\n",
       "      <td>0.123999</td>\n",
       "      <td>0.070225</td>\n",
       "      <td>0.075</td>\n",
       "      <td>0.118217</td>\n",
       "      <td>0.081832</td>\n",
       "    </tr>\n",
       "  </tbody>\n",
       "</table>\n",
       "</div>"
      ],
      "text/plain": [
       "                    Nama  Matematika  Karakter  Pengalaman Lomba  \\\n",
       "0            Satria Wira    0.148799  0.070225             0.075   \n",
       "1             Gora Wahyu    0.132266  0.070225             0.060   \n",
       "2        Azura fransisca    0.132266  0.052669             0.045   \n",
       "3           Sagita Putri    0.132266  0.070225             0.075   \n",
       "4  Afriani Ibrahim Putri    0.123999  0.070225             0.075   \n",
       "\n",
       "   Hasil Tes MTK     Kelas  \n",
       "0       0.105081  0.049099  \n",
       "1       0.111649  0.081832  \n",
       "2       0.118217  0.065465  \n",
       "3       0.105081  0.049099  \n",
       "4       0.118217  0.081832  "
      ]
     },
     "execution_count": 16,
     "metadata": {},
     "output_type": "execute_result"
    }
   ],
   "source": [
    "Matrix2()\n",
    "\n"
   ]
  },
  {
   "cell_type": "code",
   "execution_count": null,
   "metadata": {},
   "outputs": [],
   "source": []
  }
 ],
 "metadata": {
  "kernelspec": {
   "display_name": "Python 3",
   "language": "python",
   "name": "python3"
  },
  "language_info": {
   "codemirror_mode": {
    "name": "ipython",
    "version": 3
   },
   "file_extension": ".py",
   "mimetype": "text/x-python",
   "name": "python",
   "nbconvert_exporter": "python",
   "pygments_lexer": "ipython3",
   "version": "3.6.5"
  }
 },
 "nbformat": 4,
 "nbformat_minor": 2
}
